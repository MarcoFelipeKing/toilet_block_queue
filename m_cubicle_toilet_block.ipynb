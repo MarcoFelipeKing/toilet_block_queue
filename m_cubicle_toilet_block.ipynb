{
 "cells": [
  {
   "cell_type": "code",
   "execution_count": 3,
   "metadata": {},
   "outputs": [
    {
     "name": "stdout",
     "output_type": "stream",
     "text": [
      "seed: 1649427673\n"
     ]
    }
   ],
   "source": [
    "import time\n",
    "import numpy as np\n",
    "import math as m\n",
    "import sys\n",
    "import datetime\n",
    "%matplotlib inline\n",
    "from matplotlib import pyplot as plt\n",
    "\n",
    "import queue_model_fns as qu\n",
    "from van_Doremalen_2020 import viral_half_lives\n",
    "from Duguid_1946 import total_talk_small\n",
    "import first_order_ODE as foode\n",
    "from pulmonary_rate import pulmonary_rate\n",
    "\n",
    "#seed random number generator\n",
    "seed = int(time.time())\n",
    "rD = np.random.default_rng(seed)\n",
    "print('seed:',seed)"
   ]
  },
  {
   "cell_type": "markdown",
   "metadata": {},
   "source": [
    "## Set up\n",
    "\n",
    "- Simulates usage of m-cubicle toilet block by a population with a background prevalence of an airborne infectious disease\n",
    "- simulation period is 24hr, midnight to midnight\n",
    "- arrivals are Markovian (with rate depending on time of day)\n",
    "- general residence time distribution\n",
    "- if someone arrives and all m cubicles are occupied, they join a queue\n",
    "\n",
    "Calculates: \n",
    "- airborne pathogen concentration over the period\n",
    "- pathogen exposure for each susceptible visitor + probability of infection\n",
    "- expected total 2nd-ary infections over period\n",
    "\n",
    "Where we are being naive:\n",
    "- no account taken of fomite transmission\n",
    "- we assume everyone uses toilet block for same purpose (so no washing, washing of clothes or other uses)\n",
    "- we assume a very large population uses the block, with no one making repeat visits\n",
    "- no mitigations"
   ]
  },
  {
   "cell_type": "markdown",
   "metadata": {},
   "source": [
    "### Background disease prevalence rate - change this (value between 0 and 1)"
   ]
  },
  {
   "cell_type": "code",
   "execution_count": 4,
   "metadata": {},
   "outputs": [],
   "source": [
    "prev = 0.1"
   ]
  },
  {
   "cell_type": "markdown",
   "metadata": {},
   "source": [
    "### Buidling parameters - change these at will!"
   ]
  },
  {
   "cell_type": "code",
   "execution_count": 5,
   "metadata": {},
   "outputs": [],
   "source": [
    "V = 1.5 * 5 * 2 #cubic metres\n",
    "\n",
    "cubs = 4 #number of cubicles\n",
    "\n",
    "people = 4\n",
    "litrespersecondperperson = 0.25"
   ]
  },
  {
   "cell_type": "code",
   "execution_count": 6,
   "metadata": {},
   "outputs": [
    {
     "name": "stdout",
     "output_type": "stream",
     "text": [
      "Building volume: 15.00 (m^3)\n",
      "Ventilation rate: 3.60 (m^3 per hour), 0.24 (air changes per hour)\n"
     ]
    }
   ],
   "source": [
    "Q = people * litrespersecondperperson * 60 * 60/ 1000 #total ventilation rate in m3/hour\n",
    "Q_ACH = Q / V\n",
    "print('Building volume: %.2f (m^3)' %V)\n",
    "print('Ventilation rate: %.2f (m^3 per hour), %.2f (air changes per hour)' %(Q, Q_ACH))"
   ]
  },
  {
   "cell_type": "markdown",
   "metadata": {},
   "source": [
    "### Decay rate of SARS-CoV-2 in aerosols [hour$^{-1}$] (van Doremalen 2020) - does not apply generally, so keep or change"
   ]
  },
  {
   "cell_type": "code",
   "execution_count": 7,
   "metadata": {},
   "outputs": [
    {
     "name": "stdout",
     "output_type": "stream",
     "text": [
      "gamma_air: 0.63 (per hour)\n"
     ]
    }
   ],
   "source": [
    "gamma = {k_:m.log(2)/(v_) for k_, v_ in zip(viral_half_lives.keys(),\n",
    "                                                 viral_half_lives.values())} #per hour [van Doremalen (2020)]\n",
    "\n",
    "gamma_air = gamma['aerosol']\n",
    "print('gamma_air: %.2f (per hour)' %gamma_air)"
   ]
  },
  {
   "cell_type": "markdown",
   "metadata": {},
   "source": [
    "### Quanta emission rate - change this"
   ]
  },
  {
   "cell_type": "code",
   "execution_count": 8,
   "metadata": {},
   "outputs": [],
   "source": [
    "qer = 30.0 #per hour"
   ]
  },
  {
   "cell_type": "markdown",
   "metadata": {},
   "source": [
    "### Residence time distribution\n",
    "\n",
    "Naively gamma-distributed with mean approx. 6 mins.  However, we can make this more sophisticated by e.g. calibrating from Ghana data and taking into account different modes of usage, such as washing vs. toileting."
   ]
  },
  {
   "cell_type": "code",
   "execution_count": 9,
   "metadata": {},
   "outputs": [
    {
     "data": {
      "image/png": "[encoded data removed]",
      "text/plain": [
       "<Figure size 432x288 with 1 Axes>"
      ]
     },
     "metadata": {
      "needs_background": "light"
     },
     "output_type": "display_data"
    }
   ],
   "source": [
    "def residence_time(rD):\n",
    "    return rD.gamma(shape=1.1, scale=1.0/10)\n",
    "\n",
    "residence_times_hist = [residence_time(rD) for i in range(5000)]\n",
    "plt.hist(residence_times_hist, bins=40)\n",
    "plt.xlabel('time (hours)')\n",
    "plt.ylabel('frequency')\n",
    "plt.show()\n"
   ]
  },
  {
   "cell_type": "markdown",
   "metadata": {},
   "source": [
    "### Arrival pattern - change this\n",
    "\n",
    "Just made this up, but again, can play with this and/or use Ghana data"
   ]
  },
  {
   "cell_type": "code",
   "execution_count": 10,
   "metadata": {},
   "outputs": [],
   "source": [
    "'''\n",
    "very quiet: midnight to 6am\n",
    "busy: 6am to 9am\n",
    "quiet: 9am to 6pm\n",
    "busy: 6pm to 10pm\n",
    "quiet: 10pm to midnight\n",
    "'''\n",
    "\n",
    "very_quiet_rate = 0.5 #per hour\n",
    "quiet_rate = 3.0 #per hour\n",
    "busy_rate = 25.0 #per hour"
   ]
  },
  {
   "cell_type": "markdown",
   "metadata": {},
   "source": [
    "## Run simulation"
   ]
  },
  {
   "cell_type": "markdown",
   "metadata": {},
   "source": [
    "### 1. Simulate arrivals and usage"
   ]
  },
  {
   "cell_type": "code",
   "execution_count": 11,
   "metadata": {},
   "outputs": [],
   "source": [
    "arrivals = []\n",
    "\n",
    "qu.simulate_arrivals(very_quiet_rate, 0.0, 6.0, prev, arrivals, rD)\n",
    "qu.simulate_arrivals(busy_rate, 6.0, 9.0, prev, arrivals, rD)\n",
    "qu.simulate_arrivals(quiet_rate, 9.0, 18.0, prev, arrivals, rD)\n",
    "qu.simulate_arrivals(busy_rate, 18.0, 22.0, prev, arrivals, rD)\n",
    "qu.simulate_arrivals(quiet_rate, 22.0, 24.0, prev, arrivals, rD)"
   ]
  },
  {
   "cell_type": "code",
   "execution_count": 12,
   "metadata": {},
   "outputs": [],
   "source": [
    "out_str = []\n",
    "t, occ, inf, que, arrive_depart = qu.simulate_usage(cubs, arrivals, residence_time, out_str, rD)"
   ]
  },
  {
   "cell_type": "code",
   "execution_count": 13,
   "metadata": {},
   "outputs": [],
   "source": [
    "#Uncomment below if you want to see simulated usage pattern listed\n",
    "#for str in out_str:\n",
    "#        print(str)\n",
    "        "
   ]
  },
  {
   "cell_type": "markdown",
   "metadata": {},
   "source": [
    "# 2. Calculate airborne concentration [quanta m$^{-3}$] at each change in occupancy"
   ]
  },
  {
   "cell_type": "code",
   "execution_count": 14,
   "metadata": {},
   "outputs": [],
   "source": [
    "a =  qer / V\n",
    "b = (Q/V + gamma_air)\n",
    "C = qu.calculate_concentrations( t, inf, a, b, 0.0 )"
   ]
  },
  {
   "cell_type": "markdown",
   "metadata": {},
   "source": [
    "### 3. Calculate each person's exposure [quanta]"
   ]
  },
  {
   "cell_type": "markdown",
   "metadata": {},
   "source": [
    "#### notes\n",
    "\n",
    "Gammaitoni and Nucci's model [Beggs, et al. 2003] in terms of airborne *concentration* rather than absolute airborne pathogen load is\n",
    "\n",
    "\\begin{align}\n",
    "\\frac{dS}{dt} &= - p\\,C\\,S\\\\\n",
    "\\frac{dC}{dt} &= \\frac{q}{V} - (\\frac{Q}{V} + \\gamma_{\\text{air}})\\,C\\\\\n",
    "\\end{align}\n",
    "\n",
    "where\n",
    "\n",
    "$S = $ number of susceptibles\n",
    "\n",
    "$C = $ airborne concentration [quanta per m${^3}$] \n",
    "\n",
    "$p = $ pulmonary ventilation rate [m${^3}$ per hour]\n",
    "\n",
    "$Q = $ ventilation rate [m${^3}$ per hour]\n",
    "\n",
    "$V = $ room volume [m${^3}$]\n",
    "\n",
    "$\\gamma_{\\text{air}} = $ pathogen decay rate in aerosols [per hour]\n",
    "\n",
    "$q = $ emission rate [quanta].\n",
    "\n",
    "\n",
    "Adapting to discrete infections, note that hazard of infection, per susceptible, is\n",
    "\n",
    "\\begin{equation}\n",
    "h(t) = p\\,C(t)\n",
    "\\end{equation}\n",
    "\n",
    "and, therefore, probability of infection due to exposure to concentration $C(t)$ between $t_0$ and $t_1$ is\n",
    "\n",
    "\\begin{align}\n",
    "    P_{\\text{inf}} &= 1 - \\exp\\left\\{-\\int_{t_0}^{t_1} h(t)\\,dt\\right\\}\\\\\n",
    "    & = 1 - \\exp\\left\\{-p\\int_{t_0}^{t_1} C(t)\\,dt\\right\\}.\\\\\n",
    "\\end{align}\n",
    "\n",
    "E.g. total exposure to 1 quantum leads to infection with probability $1 - e^{-1} = 0.632$.\n",
    "\n",
    "Integral is performed by function `calculate_exposures` in `queue_model_fns`"
   ]
  },
  {
   "cell_type": "code",
   "execution_count": 15,
   "metadata": {},
   "outputs": [],
   "source": [
    "pulmonary_rates = pulmonary_rate( len(arrive_depart), rD) / 1000.0\n",
    "E = np.array( qu.calculate_exposures( pulmonary_rates, arrive_depart, t, C, inf, a, b ) )"
   ]
  },
  {
   "cell_type": "markdown",
   "metadata": {},
   "source": [
    "## View outputs"
   ]
  },
  {
   "cell_type": "markdown",
   "metadata": {},
   "source": [
    "### 1. Occupancy & airborne concentration"
   ]
  },
  {
   "cell_type": "code",
   "execution_count": 16,
   "metadata": {},
   "outputs": [
    {
     "data": {
      "image/png": "[encoded data removed]",
      "text/plain": [
       "<Figure size 1296x360 with 2 Axes>"
      ]
     },
     "metadata": {
      "needs_background": "light"
     },
     "output_type": "display_data"
    }
   ],
   "source": [
    "fig, ax = plt.subplots(1,2,sharex=True)\n",
    "\n",
    "fig.set_size_inches( (18,5) )\n",
    "\n",
    "ax[0].step(t, occ, 'g-', where='post', label='occupants', alpha=0.6)\n",
    "ax[0].step(t, inf, 'r-', where='post', label='infected', alpha=0.6)\n",
    "ax[0].step(t, que, 'b-', where='post', label='queue', alpha=0.6)\n",
    "ax[0].legend( loc='upper left' )\n",
    "\n",
    "ax[1].plot(t, C, 'k-')\n",
    "\n",
    "ax[0].set_xlabel('time (hr)')\n",
    "ax[0].set_title('occupancy (people)')\n",
    "ax[1].set_title(r'airborne concentration (quanta m$^{-3}$)')\n",
    "\n",
    "plt.show()"
   ]
  },
  {
   "cell_type": "markdown",
   "metadata": {},
   "source": [
    "### 2. Exposure"
   ]
  },
  {
   "cell_type": "code",
   "execution_count": 17,
   "metadata": {},
   "outputs": [
    {
     "name": "stdout",
     "output_type": "stream",
     "text": [
      "time entered\ttime left\ttime spent\texposure (quanta)\tP(inf)\n",
      "--------------------------------------------------------------------------------------\n",
      "(susceptibles only)\n",
      "\n",
      "5:17:28\t\t5:19:08\t\t0:01:39\t\t0.00000672\t\t0.0000\n",
      "6:02:06\t\t6:04:38\t\t0:02:32\t\t0.00000259\t\t0.0000\n",
      "6:02:20\t\t6:03:33\t\t0:01:13\t\t0.00000245\t\t0.0000\n",
      "6:02:55\t\t6:11:17\t\t0:08:22\t\t0.00001017\t\t0.0000\n",
      "6:05:32\t\t6:10:00\t\t0:04:28\t\t0.00000865\t\t0.0000\n",
      "6:07:08\t\t6:09:29\t\t0:02:21\t\t0.00000345\t\t0.0000\n",
      "6:09:54\t\t6:14:42\t\t0:04:48\t\t0.00000414\t\t0.0000\n",
      "6:10:33\t\t6:16:13\t\t0:05:39\t\t0.00000900\t\t0.0000\n",
      "6:14:43\t\t6:16:51\t\t0:02:08\t\t0.00000205\t\t0.0000\n",
      "6:15:56\t\t6:18:04\t\t0:02:08\t\t0.00000344\t\t0.0000\n",
      "6:23:42\t\t6:23:51\t\t0:00:09\t\t0.00000017\t\t0.0000\n",
      "6:28:45\t\t6:30:54\t\t0:02:08\t\t0.00000175\t\t0.0000\n",
      "6:30:12\t\t6:34:18\t\t0:04:05\t\t0.00000479\t\t0.0000\n",
      "6:39:05\t\t6:45:23\t\t0:06:18\t\t0.00000568\t\t0.0000\n",
      "6:46:38\t\t6:51:00\t\t0:04:21\t\t0.00000411\t\t0.0000\n",
      "6:53:20\t\t6:54:57\t\t0:01:36\t\t0.00001201\t\t0.0000\n",
      "6:56:35\t\t7:05:20\t\t0:08:44\t\t0.00003698\t\t0.0000\n",
      "6:58:33\t\t7:05:55\t\t0:07:22\t\t0.00004618\t\t0.0000\n",
      "6:58:44\t\t7:05:36\t\t0:06:51\t\t0.00002892\t\t0.0000\n",
      "7:02:33\t\t7:20:07\t\t0:17:33\t\t0.00008850\t\t0.0001\n",
      "7:10:39\t\t7:12:26\t\t0:01:47\t\t0.00000633\t\t0.0000\n",
      "7:12:25\t\t7:18:30\t\t0:06:05\t\t0.00001974\t\t0.0000\n",
      "7:13:00\t\t7:14:44\t\t0:01:43\t\t0.00000589\t\t0.0000\n",
      "7:15:58\t\t7:17:07\t\t0:01:08\t\t0.00000394\t\t0.0000\n",
      "7:24:25\t\t7:33:43\t\t0:09:17\t\t0.00003500\t\t0.0000\n",
      "7:25:43\t\t7:32:18\t\t0:06:35\t\t0.00003180\t\t0.0000\n",
      "7:29:43\t\t7:33:06\t\t0:03:23\t\t0.00001186\t\t0.0000\n",
      "7:29:50\t\t7:30:07\t\t0:00:17\t\t0.00000122\t\t0.0000\n",
      "7:30:54\t\t7:31:09\t\t0:00:15\t\t0.00000100\t\t0.0000\n",
      "7:32:24\t\t7:35:30\t\t0:03:06\t\t0.00000898\t\t0.0000\n",
      "7:32:52\t\t7:37:22\t\t0:04:30\t\t0.00001795\t\t0.0000\n",
      "7:34:17\t\t7:37:29\t\t0:03:11\t\t0.00001073\t\t0.0000\n",
      "7:37:31\t\t7:37:59\t\t0:00:28\t\t0.00000143\t\t0.0000\n",
      "7:38:59\t\t7:51:09\t\t0:12:10\t\t0.00014879\t\t0.0001\n",
      "7:44:50\t\t7:47:31\t\t0:02:41\t\t0.00006813\t\t0.0001\n",
      "7:45:43\t\t7:51:41\t\t0:05:58\t\t0.00020357\t\t0.0002\n",
      "7:47:31\t\t7:48:28\t\t0:00:56\t\t0.00003315\t\t0.0000\n",
      "7:56:00\t\t7:56:15\t\t0:00:14\t\t0.00000970\t\t0.0000\n",
      "7:57:00\t\t7:57:07\t\t0:00:07\t\t0.00000524\t\t0.0000\n",
      "8:03:56\t\t8:09:41\t\t0:05:45\t\t0.00026323\t\t0.0003\n",
      "8:04:57\t\t8:23:01\t\t0:18:04\t\t0.00094446\t\t0.0009\n",
      "8:12:33\t\t8:18:38\t\t0:06:04\t\t0.00023589\t\t0.0002\n",
      "8:12:38\t\t8:19:06\t\t0:06:27\t\t0.00041394\t\t0.0004\n",
      "8:12:49\t\t8:23:54\t\t0:11:04\t\t0.00043397\t\t0.0004\n",
      "8:18:38\t\t8:27:06\t\t0:08:27\t\t0.00053722\t\t0.0005\n",
      "8:19:06\t\t8:21:38\t\t0:02:32\t\t0.00015730\t\t0.0002\n",
      "8:21:38\t\t8:41:00\t\t0:19:22\t\t0.00127700\t\t0.0013\n",
      "8:29:29\t\t8:57:24\t\t0:27:54\t\t0.00453318\t\t0.0045\n",
      "8:29:43\t\t8:37:16\t\t0:07:33\t\t0.00110781\t\t0.0011\n",
      "8:37:16\t\t8:58:20\t\t0:21:04\t\t0.00658909\t\t0.0066\n",
      "8:37:54\t\t8:40:29\t\t0:02:34\t\t0.00032835\t\t0.0003\n",
      "8:40:29\t\t8:44:27\t\t0:03:58\t\t0.00057435\t\t0.0006\n",
      "8:41:00\t\t9:03:33\t\t0:22:32\t\t0.00461422\t\t0.0046\n",
      "8:44:27\t\t8:52:18\t\t0:07:50\t\t0.00248611\t\t0.0025\n",
      "8:57:24\t\t9:23:34\t\t0:26:10\t\t0.00969173\t\t0.0096\n",
      "8:58:20\t\t9:09:55\t\t0:11:34\t\t0.00452896\t\t0.0045\n",
      "9:03:25\t\t9:05:30\t\t0:02:05\t\t0.00047754\t\t0.0005\n",
      "9:05:30\t\t9:06:56\t\t0:01:25\t\t0.00054753\t\t0.0005\n",
      "9:13:34\t\t9:17:09\t\t0:03:34\t\t0.00106463\t\t0.0011\n",
      "9:53:09\t\t9:58:47\t\t0:05:37\t\t0.00089515\t\t0.0009\n",
      "9:54:11\t\t10:03:17\t\t0:09:06\t\t0.00157705\t\t0.0016\n",
      "10:01:45\t\t10:03:15\t\t0:01:30\t\t0.00016379\t\t0.0002\n",
      "10:36:42\t\t10:46:16\t\t0:09:33\t\t0.00068550\t\t0.0007\n",
      "11:15:55\t\t11:21:41\t\t0:05:45\t\t0.00032253\t\t0.0003\n",
      "11:25:36\t\t11:30:02\t\t0:04:26\t\t0.00019846\t\t0.0002\n",
      "11:34:04\t\t11:38:38\t\t0:04:34\t\t0.00014950\t\t0.0001\n",
      "11:36:27\t\t11:48:05\t\t0:11:38\t\t0.00026019\t\t0.0003\n",
      "11:39:19\t\t11:46:52\t\t0:07:33\t\t0.00024198\t\t0.0002\n",
      "11:43:25\t\t11:51:49\t\t0:08:24\t\t0.00028797\t\t0.0003\n",
      "11:45:38\t\t11:49:32\t\t0:03:54\t\t0.00008851\t\t0.0001\n",
      "12:06:33\t\t12:10:59\t\t0:04:25\t\t0.00006495\t\t0.0001\n",
      "12:20:09\t\t12:22:53\t\t0:02:44\t\t0.00004194\t\t0.0000\n",
      "12:59:02\t\t13:10:37\t\t0:11:34\t\t0.00008481\t\t0.0001\n",
      "13:11:40\t\t13:14:46\t\t0:03:06\t\t0.00002772\t\t0.0000\n",
      "13:25:41\t\t13:32:18\t\t0:06:36\t\t0.00004681\t\t0.0000\n",
      "13:30:10\t\t13:33:15\t\t0:03:05\t\t0.00001481\t\t0.0000\n",
      "15:10:48\t\t15:18:39\t\t0:07:51\t\t0.00006450\t\t0.0001\n",
      "15:59:10\t\t16:11:46\t\t0:12:35\t\t0.00006129\t\t0.0001\n",
      "18:02:52\t\t18:04:56\t\t0:02:03\t\t0.00003279\t\t0.0000\n",
      "18:03:12\t\t18:12:11\t\t0:08:59\t\t0.00014592\t\t0.0001\n",
      "18:03:37\t\t18:03:55\t\t0:00:17\t\t0.00000031\t\t0.0000\n",
      "18:04:56\t\t18:06:38\t\t0:01:42\t\t0.00009260\t\t0.0001\n",
      "18:09:39\t\t18:12:12\t\t0:02:32\t\t0.00003896\t\t0.0000\n",
      "18:15:27\t\t18:21:50\t\t0:06:22\t\t0.00010110\t\t0.0001\n",
      "18:21:07\t\t18:23:31\t\t0:02:24\t\t0.00002857\t\t0.0000\n",
      "18:24:41\t\t18:42:51\t\t0:18:10\t\t0.00015608\t\t0.0002\n",
      "18:27:35\t\t18:32:26\t\t0:04:51\t\t0.00006783\t\t0.0001\n",
      "18:27:58\t\t18:31:11\t\t0:03:12\t\t0.00005449\t\t0.0001\n",
      "18:36:13\t\t19:00:39\t\t0:24:26\t\t0.00030056\t\t0.0003\n",
      "18:36:31\t\t18:41:53\t\t0:05:21\t\t0.00007103\t\t0.0001\n",
      "18:44:57\t\t18:45:39\t\t0:00:42\t\t0.00000924\t\t0.0000\n",
      "18:45:50\t\t18:56:34\t\t0:10:43\t\t0.00013650\t\t0.0001\n",
      "18:47:54\t\t18:51:12\t\t0:03:17\t\t0.00005306\t\t0.0001\n",
      "18:50:48\t\t18:52:14\t\t0:01:26\t\t0.00001653\t\t0.0000\n",
      "18:51:18\t\t18:51:26\t\t0:00:07\t\t0.00000146\t\t0.0000\n",
      "18:58:16\t\t19:03:13\t\t0:04:57\t\t0.00005935\t\t0.0001\n",
      "19:04:12\t\t19:10:56\t\t0:06:43\t\t0.00007167\t\t0.0001\n",
      "19:05:10\t\t19:11:28\t\t0:06:17\t\t0.00007890\t\t0.0001\n",
      "19:06:11\t\t19:17:30\t\t0:11:18\t\t0.00011219\t\t0.0001\n",
      "19:08:30\t\t19:16:40\t\t0:08:10\t\t0.00006948\t\t0.0001\n",
      "19:10:56\t\t19:11:20\t\t0:00:24\t\t0.00000363\t\t0.0000\n",
      "19:11:20\t\t19:14:14\t\t0:02:53\t\t0.00002095\t\t0.0000\n",
      "19:11:28\t\t19:21:32\t\t0:10:04\t\t0.00006756\t\t0.0001\n",
      "19:14:14\t\t19:21:30\t\t0:07:16\t\t0.00005481\t\t0.0001\n",
      "19:16:40\t\t19:23:41\t\t0:07:01\t\t0.00004022\t\t0.0000\n",
      "19:17:30\t\t19:24:05\t\t0:06:34\t\t0.00003907\t\t0.0000\n",
      "19:21:30\t\t19:33:12\t\t0:11:42\t\t0.00038883\t\t0.0004\n",
      "19:21:49\t\t19:27:03\t\t0:05:14\t\t0.00014187\t\t0.0001\n",
      "19:23:55\t\t19:25:31\t\t0:01:35\t\t0.00009852\t\t0.0001\n",
      "19:30:27\t\t19:35:12\t\t0:04:44\t\t0.00016161\t\t0.0002\n",
      "19:31:57\t\t19:42:25\t\t0:10:27\t\t0.00046370\t\t0.0005\n",
      "19:45:06\t\t20:11:19\t\t0:26:13\t\t0.00781072\t\t0.0078\n",
      "19:45:14\t\t19:52:58\t\t0:07:44\t\t0.00244178\t\t0.0024\n",
      "19:53:56\t\t19:54:55\t\t0:00:58\t\t0.00032251\t\t0.0003\n",
      "19:57:52\t\t19:59:42\t\t0:01:49\t\t0.00043979\t\t0.0004\n",
      "20:02:51\t\t20:09:08\t\t0:06:16\t\t0.00121726\t\t0.0012\n",
      "20:03:20\t\t20:04:22\t\t0:01:02\t\t0.00025140\t\t0.0003\n",
      "20:05:32\t\t20:06:07\t\t0:00:35\t\t0.00008335\t\t0.0001\n",
      "20:05:58\t\t20:13:49\t\t0:07:50\t\t0.00148810\t\t0.0015\n",
      "20:09:53\t\t20:10:56\t\t0:01:02\t\t0.00017183\t\t0.0002\n",
      "20:10:39\t\t20:32:54\t\t0:22:14\t\t0.00356950\t\t0.0036\n",
      "20:11:26\t\t20:16:41\t\t0:05:14\t\t0.00098429\t\t0.0010\n",
      "20:21:58\t\t20:34:02\t\t0:12:04\t\t0.00193631\t\t0.0019\n",
      "20:23:20\t\t20:27:43\t\t0:04:23\t\t0.00077917\t\t0.0008\n",
      "20:27:15\t\t20:41:58\t\t0:14:43\t\t0.00356024\t\t0.0036\n",
      "20:27:43\t\t20:36:01\t\t0:08:17\t\t0.00118763\t\t0.0012\n",
      "20:32:54\t\t20:36:37\t\t0:03:42\t\t0.00038772\t\t0.0004\n",
      "20:34:02\t\t20:56:44\t\t0:22:41\t\t0.00309662\t\t0.0031\n",
      "20:36:01\t\t20:37:46\t\t0:01:45\t\t0.00039183\t\t0.0004\n",
      "20:36:37\t\t20:43:21\t\t0:06:43\t\t0.00124289\t\t0.0012\n",
      "20:37:46\t\t20:52:00\t\t0:14:13\t\t0.00221664\t\t0.0022\n",
      "20:41:58\t\t21:03:15\t\t0:21:16\t\t0.00359293\t\t0.0036\n",
      "20:52:00\t\t20:57:36\t\t0:05:35\t\t0.00071330\t\t0.0007\n",
      "20:56:44\t\t20:58:05\t\t0:01:20\t\t0.00021617\t\t0.0002\n",
      "20:57:36\t\t21:09:01\t\t0:11:25\t\t0.00312854\t\t0.0031\n",
      "20:58:05\t\t21:03:04\t\t0:04:59\t\t0.00084135\t\t0.0008\n",
      "21:01:58\t\t21:10:53\t\t0:08:54\t\t0.00212945\t\t0.0021\n",
      "21:04:29\t\t21:06:39\t\t0:02:10\t\t0.00052498\t\t0.0005\n",
      "21:05:52\t\t21:08:50\t\t0:02:58\t\t0.00048523\t\t0.0005\n",
      "21:06:57\t\t21:07:41\t\t0:00:44\t\t0.00021076\t\t0.0002\n",
      "21:08:55\t\t21:40:31\t\t0:31:36\t\t0.00460987\t\t0.0046\n",
      "21:09:08\t\t21:34:01\t\t0:24:53\t\t0.00511252\t\t0.0051\n",
      "21:10:51\t\t21:17:42\t\t0:06:51\t\t0.00117809\t\t0.0012\n",
      "21:10:53\t\t21:15:22\t\t0:04:28\t\t0.00097564\t\t0.0010\n",
      "21:15:22\t\t21:23:04\t\t0:07:41\t\t0.00150051\t\t0.0015\n",
      "21:17:42\t\t21:17:55\t\t0:00:13\t\t0.00003241\t\t0.0000\n",
      "21:17:55\t\t21:22:20\t\t0:04:25\t\t0.00102050\t\t0.0010\n",
      "21:22:20\t\t21:22:50\t\t0:00:29\t\t0.00011548\t\t0.0001\n",
      "21:24:03\t\t21:26:26\t\t0:02:22\t\t0.00033681\t\t0.0003\n",
      "21:24:55\t\t21:37:38\t\t0:12:43\t\t0.00245717\t\t0.0025\n",
      "21:28:12\t\t21:31:12\t\t0:02:59\t\t0.00046345\t\t0.0005\n",
      "21:31:12\t\t21:35:26\t\t0:04:14\t\t0.00053119\t\t0.0005\n",
      "21:34:01\t\t21:36:12\t\t0:02:10\t\t0.00042020\t\t0.0004\n",
      "21:37:22\t\t21:39:28\t\t0:02:06\t\t0.00033794\t\t0.0003\n",
      "21:38:50\t\t21:39:59\t\t0:01:09\t\t0.00017548\t\t0.0002\n",
      "21:39:19\t\t21:39:37\t\t0:00:17\t\t0.00005374\t\t0.0001\n",
      "21:39:28\t\t21:41:19\t\t0:01:50\t\t0.00016751\t\t0.0002\n",
      "21:40:53\t\t21:51:31\t\t0:10:38\t\t0.00138207\t\t0.0014\n",
      "21:44:33\t\t22:04:19\t\t0:19:45\t\t0.00221647\t\t0.0022\n",
      "21:47:40\t\t22:11:58\t\t0:24:17\t\t0.00273501\t\t0.0027\n",
      "21:53:25\t\t21:54:07\t\t0:00:42\t\t0.00008437\t\t0.0001\n",
      "21:56:43\t\t22:02:19\t\t0:05:35\t\t0.00059099\t\t0.0006\n",
      "22:41:35\t\t22:49:01\t\t0:07:26\t\t0.00049863\t\t0.0005\n",
      "23:02:17\t\t23:09:54\t\t0:07:36\t\t0.00023877\t\t0.0002\n",
      "23:18:55\t\t23:31:09\t\t0:12:14\t\t0.00041673\t\t0.0004\n",
      "23:28:23\t\t23:34:58\t\t0:06:34\t\t0.00016193\t\t0.0002\n"
     ]
    }
   ],
   "source": [
    "pinf = 1 - np.exp(-E)\n",
    "\n",
    "print('time entered\\ttime left\\ttime spent\\texposure (quanta)\\tP(inf)')\n",
    "print('--------------------------------------------------------------------------------------')\n",
    "print('(susceptibles only)\\n')\n",
    "susceptibles = 0\n",
    "for (a, d, _), e, pinf_ in zip(arrive_depart, E, pinf):\n",
    "    if _ == 1:\n",
    "        continue\n",
    "    t_enter = str(datetime.timedelta(hours=a)).rsplit('.')[0]\n",
    "    t_leave = str(datetime.timedelta(hours=d)).rsplit('.')[0]\n",
    "    t_spent = str(datetime.timedelta(hours=d) - datetime.timedelta(hours=a)).rsplit('.')[0]\n",
    "    susceptibles += 1\n",
    "    #spent = (d-a)*60.0\n",
    "    print(t_enter + '\\t\\t' + t_leave + '\\t\\t' + t_spent +'\\t\\t%.8f\\t\\t%.4f' %(e, pinf_))"
   ]
  },
  {
   "cell_type": "markdown",
   "metadata": {},
   "source": [
    "### Expected number of secondary infections"
   ]
  },
  {
   "cell_type": "code",
   "execution_count": 18,
   "metadata": {
    "scrolled": true
   },
   "outputs": [
    {
     "name": "stdout",
     "output_type": "stream",
     "text": [
      "Expected 2nd-ary infections: 0.144 out of 166 susceptibles\n"
     ]
    }
   ],
   "source": [
    "E_infs = np.sum(pinf)\n",
    "print('Expected 2nd-ary infections: %.3f out of %d susceptibles' %(E_infs, susceptibles) )"
   ]
  }
 ],
 "metadata": {
  "kernelspec": {
   "display_name": "Python 3",
   "language": "python",
   "name": "python3"
  },
  "language_info": {
   "codemirror_mode": {
    "name": "ipython",
    "version": 3
   },
   "file_extension": ".py",
   "mimetype": "text/x-python",
   "name": "python",
   "nbconvert_exporter": "python",
   "pygments_lexer": "ipython3",
   "version": "3.8.13"
  }
 },
 "nbformat": 4,
 "nbformat_minor": 4
}
